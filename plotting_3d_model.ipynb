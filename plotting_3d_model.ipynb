{
 "cells": [
  {
   "cell_type": "code",
   "execution_count": 1,
   "id": "6a1db64e",
   "metadata": {},
   "outputs": [
    {
     "name": "stderr",
     "output_type": "stream",
     "text": [
      "/home/arfa/.local/lib/python3.8/site-packages/geopandas/_compat.py:111: UserWarning: The Shapely GEOS version (3.8.0-CAPI-1.13.1 ) is incompatible with the GEOS version PyGEOS was compiled with (3.9.1-CAPI-1.14.2). Conversions between both will be slow.\n",
      "  warnings.warn(\n"
     ]
    }
   ],
   "source": [
    "import geopandas as gpd\n",
    "import pandas as pd\n",
    "import numpy as np \n",
    "import rasterio as rs\n",
    "from rasterio.plot import show\n",
    "from pyproj import CRS\n",
    "import geopy\n",
    "import rioxarray\n",
    "\n",
    "\n",
    "from matplotlib import pyplot as plt\n",
    "%matplotlib inline"
   ]
  },
  {
   "cell_type": "code",
   "execution_count": 2,
   "id": "85fdfee3",
   "metadata": {},
   "outputs": [
    {
     "data": {
      "text/html": [
       "<div>\n",
       "<style scoped>\n",
       "    .dataframe tbody tr th:only-of-type {\n",
       "        vertical-align: middle;\n",
       "    }\n",
       "\n",
       "    .dataframe tbody tr th {\n",
       "        vertical-align: top;\n",
       "    }\n",
       "\n",
       "    .dataframe thead th {\n",
       "        text-align: right;\n",
       "    }\n",
       "</style>\n",
       "<table border=\"1\" class=\"dataframe\">\n",
       "  <thead>\n",
       "    <tr style=\"text-align: right;\">\n",
       "      <th></th>\n",
       "      <th>Id</th>\n",
       "      <th>OpnDatum1</th>\n",
       "      <th>OpnDatum2</th>\n",
       "      <th>geometry</th>\n",
       "    </tr>\n",
       "  </thead>\n",
       "  <tbody>\n",
       "    <tr>\n",
       "      <th>0</th>\n",
       "      <td>0</td>\n",
       "      <td>2013-02-20</td>\n",
       "      <td>None</td>\n",
       "      <td>MULTIPOLYGON Z (((162079.010 238604.770 0.000,...</td>\n",
       "    </tr>\n",
       "    <tr>\n",
       "      <th>1</th>\n",
       "      <td>0</td>\n",
       "      <td>2013-04-01</td>\n",
       "      <td>None</td>\n",
       "      <td>POLYGON Z ((148803.300 243432.780 0.000, 14882...</td>\n",
       "    </tr>\n",
       "    <tr>\n",
       "      <th>2</th>\n",
       "      <td>0</td>\n",
       "      <td>2013-02-20</td>\n",
       "      <td>2013-04-01</td>\n",
       "      <td>MULTIPOLYGON Z (((156554.470 243736.800 0.000,...</td>\n",
       "    </tr>\n",
       "  </tbody>\n",
       "</table>\n",
       "</div>"
      ],
      "text/plain": [
       "   Id   OpnDatum1   OpnDatum2  \\\n",
       "0   0  2013-02-20        None   \n",
       "1   0  2013-04-01        None   \n",
       "2   0  2013-02-20  2013-04-01   \n",
       "\n",
       "                                            geometry  \n",
       "0  MULTIPOLYGON Z (((162079.010 238604.770 0.000,...  \n",
       "1  POLYGON Z ((148803.300 243432.780 0.000, 14882...  \n",
       "2  MULTIPOLYGON Z (((156554.470 243736.800 0.000,...  "
      ]
     },
     "execution_count": 2,
     "metadata": {},
     "output_type": "execute_result"
    }
   ],
   "source": [
    "shapefile = gpd.read_file(\"./DTM/DHMVII_vdc_k01.shp\")\n",
    "shapefile"
   ]
  },
  {
   "cell_type": "code",
   "execution_count": 3,
   "id": "e4682baa",
   "metadata": {},
   "outputs": [
    {
     "data": {
      "text/plain": [
       "<Projected CRS: PROJCS[\"Belge 1972 / Belgian Lambert 72\",GEOGCS[\"B ...>\n",
       "Name: Belge 1972 / Belgian Lambert 72\n",
       "Axis Info [cartesian]:\n",
       "- [east]: Easting (metre)\n",
       "- [north]: Northing (metre)\n",
       "Area of Use:\n",
       "- undefined\n",
       "Coordinate Operation:\n",
       "- name: unnamed\n",
       "- method: Lambert Conic Conformal (2SP)\n",
       "Datum: Reseau National Belge 1972\n",
       "- Ellipsoid: International 1924\n",
       "- Prime Meridian: Greenwich"
      ]
     },
     "execution_count": 3,
     "metadata": {},
     "output_type": "execute_result"
    }
   ],
   "source": [
    "shapefile.crs"
   ]
  },
  {
   "cell_type": "code",
   "execution_count": 4,
   "id": "4448041f",
   "metadata": {
    "scrolled": true
   },
   "outputs": [
    {
     "ename": "RasterioIOError",
     "evalue": "DSM_k01.tif: No such file or directory",
     "output_type": "error",
     "traceback": [
      "\u001b[0;31m---------------------------------------------------------------------------\u001b[0m",
      "\u001b[0;31mCPLE_OpenFailedError\u001b[0m                      Traceback (most recent call last)",
      "\u001b[0;32mrasterio/_base.pyx\u001b[0m in \u001b[0;36mrasterio._base.DatasetBase.__init__\u001b[0;34m()\u001b[0m\n",
      "\u001b[0;32mrasterio/_shim.pyx\u001b[0m in \u001b[0;36mrasterio._shim.open_dataset\u001b[0;34m()\u001b[0m\n",
      "\u001b[0;32mrasterio/_err.pyx\u001b[0m in \u001b[0;36mrasterio._err.exc_wrap_pointer\u001b[0;34m()\u001b[0m\n",
      "\u001b[0;31mCPLE_OpenFailedError\u001b[0m: DSM_k01.tif: No such file or directory",
      "\nDuring handling of the above exception, another exception occurred:\n",
      "\u001b[0;31mRasterioIOError\u001b[0m                           Traceback (most recent call last)",
      "\u001b[0;32m/tmp/ipykernel_210379/3360147516.py\u001b[0m in \u001b[0;36m<module>\u001b[0;34m\u001b[0m\n\u001b[0;32m----> 1\u001b[0;31m \u001b[0mdsm\u001b[0m \u001b[0;34m=\u001b[0m \u001b[0mrs\u001b[0m\u001b[0;34m.\u001b[0m\u001b[0mopen\u001b[0m\u001b[0;34m(\u001b[0m\u001b[0;34mr'DSM_k01.tif'\u001b[0m\u001b[0;34m)\u001b[0m\u001b[0;34m\u001b[0m\u001b[0;34m\u001b[0m\u001b[0m\n\u001b[0m\u001b[1;32m      2\u001b[0m \u001b[0mshow\u001b[0m\u001b[0;34m(\u001b[0m\u001b[0mdsm\u001b[0m\u001b[0;34m)\u001b[0m\u001b[0;34m\u001b[0m\u001b[0;34m\u001b[0m\u001b[0m\n",
      "\u001b[0;32m~/.local/lib/python3.8/site-packages/rasterio/env.py\u001b[0m in \u001b[0;36mwrapper\u001b[0;34m(*args, **kwds)\u001b[0m\n\u001b[1;32m    435\u001b[0m \u001b[0;34m\u001b[0m\u001b[0m\n\u001b[1;32m    436\u001b[0m         \u001b[0;32mwith\u001b[0m \u001b[0menv_ctor\u001b[0m\u001b[0;34m(\u001b[0m\u001b[0msession\u001b[0m\u001b[0;34m=\u001b[0m\u001b[0msession\u001b[0m\u001b[0;34m)\u001b[0m\u001b[0;34m:\u001b[0m\u001b[0;34m\u001b[0m\u001b[0;34m\u001b[0m\u001b[0m\n\u001b[0;32m--> 437\u001b[0;31m             \u001b[0;32mreturn\u001b[0m \u001b[0mf\u001b[0m\u001b[0;34m(\u001b[0m\u001b[0;34m*\u001b[0m\u001b[0margs\u001b[0m\u001b[0;34m,\u001b[0m \u001b[0;34m**\u001b[0m\u001b[0mkwds\u001b[0m\u001b[0;34m)\u001b[0m\u001b[0;34m\u001b[0m\u001b[0;34m\u001b[0m\u001b[0m\n\u001b[0m\u001b[1;32m    438\u001b[0m \u001b[0;34m\u001b[0m\u001b[0m\n\u001b[1;32m    439\u001b[0m     \u001b[0;32mreturn\u001b[0m \u001b[0mwrapper\u001b[0m\u001b[0;34m\u001b[0m\u001b[0;34m\u001b[0m\u001b[0m\n",
      "\u001b[0;32m~/.local/lib/python3.8/site-packages/rasterio/__init__.py\u001b[0m in \u001b[0;36mopen\u001b[0;34m(fp, mode, driver, width, height, count, crs, transform, dtype, nodata, sharing, **kwargs)\u001b[0m\n\u001b[1;32m    218\u001b[0m         \u001b[0;31m# None.\u001b[0m\u001b[0;34m\u001b[0m\u001b[0;34m\u001b[0m\u001b[0;34m\u001b[0m\u001b[0m\n\u001b[1;32m    219\u001b[0m         \u001b[0;32mif\u001b[0m \u001b[0mmode\u001b[0m \u001b[0;34m==\u001b[0m \u001b[0;34m'r'\u001b[0m\u001b[0;34m:\u001b[0m\u001b[0;34m\u001b[0m\u001b[0;34m\u001b[0m\u001b[0m\n\u001b[0;32m--> 220\u001b[0;31m             \u001b[0ms\u001b[0m \u001b[0;34m=\u001b[0m \u001b[0mDatasetReader\u001b[0m\u001b[0;34m(\u001b[0m\u001b[0mpath\u001b[0m\u001b[0;34m,\u001b[0m \u001b[0mdriver\u001b[0m\u001b[0;34m=\u001b[0m\u001b[0mdriver\u001b[0m\u001b[0;34m,\u001b[0m \u001b[0msharing\u001b[0m\u001b[0;34m=\u001b[0m\u001b[0msharing\u001b[0m\u001b[0;34m,\u001b[0m \u001b[0;34m**\u001b[0m\u001b[0mkwargs\u001b[0m\u001b[0;34m)\u001b[0m\u001b[0;34m\u001b[0m\u001b[0;34m\u001b[0m\u001b[0m\n\u001b[0m\u001b[1;32m    221\u001b[0m         \u001b[0;32melif\u001b[0m \u001b[0mmode\u001b[0m \u001b[0;34m==\u001b[0m \u001b[0;34m\"r+\"\u001b[0m\u001b[0;34m:\u001b[0m\u001b[0;34m\u001b[0m\u001b[0;34m\u001b[0m\u001b[0m\n\u001b[1;32m    222\u001b[0m             s = get_writer_for_path(path, driver=driver)(\n",
      "\u001b[0;32mrasterio/_base.pyx\u001b[0m in \u001b[0;36mrasterio._base.DatasetBase.__init__\u001b[0;34m()\u001b[0m\n",
      "\u001b[0;31mRasterioIOError\u001b[0m: DSM_k01.tif: No such file or directory"
     ]
    }
   ],
   "source": [
    "dsm = rs.open(r'DSM_k01.tif')\n",
    "show(dsm)"
   ]
  },
  {
   "cell_type": "code",
   "execution_count": null,
   "id": "aa9d48e5",
   "metadata": {
    "scrolled": true
   },
   "outputs": [],
   "source": [
    "dtm = rs.open(r'DTM_k01.tif')\n",
    "show(dtm)"
   ]
  },
  {
   "cell_type": "code",
   "execution_count": null,
   "id": "017c5077",
   "metadata": {},
   "outputs": [],
   "source": [
    "dsm_array = dsm.read(1)\n",
    "dtm_array = dtm.read(1)"
   ]
  },
  {
   "cell_type": "code",
   "execution_count": null,
   "id": "5498d0f9",
   "metadata": {},
   "outputs": [],
   "source": [
    "chm_array = dsm_array - dtm_array"
   ]
  },
  {
   "cell_type": "code",
   "execution_count": null,
   "id": "75349057",
   "metadata": {},
   "outputs": [],
   "source": [
    "chm_array"
   ]
  },
  {
   "cell_type": "code",
   "execution_count": null,
   "id": "1d5053c0",
   "metadata": {},
   "outputs": [],
   "source": [
    "show(chm_array)"
   ]
  },
  {
   "cell_type": "code",
   "execution_count": null,
   "id": "e8906b58",
   "metadata": {
    "scrolled": true
   },
   "outputs": [],
   "source": [
    "slice_ar = chm_array[8000:8010,10100:10120]\n",
    "slice_ar\n",
    "\n",
    "#import earthpy as et\n",
    "#import earthpy.plot as ep\n",
    "#ep.plot_bands(slice_ar,cmap='viridis')\n",
    "#plt.show()"
   ]
  },
  {
   "cell_type": "code",
   "execution_count": null,
   "id": "3c4aef3b",
   "metadata": {},
   "outputs": [],
   "source": [
    "nx = slice_ar.shape[1]\n",
    "ny = slice_ar.shape[0]\n",
    "x = range(nx)\n",
    "y = range(ny)"
   ]
  },
  {
   "cell_type": "code",
   "execution_count": null,
   "id": "29b8221a",
   "metadata": {
    "scrolled": false
   },
   "outputs": [],
   "source": [
    "size = plt.figure(figsize = (10,10))\n",
    "ha = size.add_subplot(111, projection = \"3d\")\n",
    "\n",
    "X,Y = np.meshgrid(x,y)\n",
    "ha.plot_surface(X, Y, slice_ar)\n",
    "plt.show()"
   ]
  },
  {
   "cell_type": "code",
   "execution_count": null,
   "id": "2e6436a8",
   "metadata": {},
   "outputs": [],
   "source": []
  },
  {
   "cell_type": "code",
   "execution_count": null,
   "id": "909790cc",
   "metadata": {},
   "outputs": [],
   "source": [
    "dsm.bounds"
   ]
  },
  {
   "cell_type": "code",
   "execution_count": null,
   "id": "5a21ebfa",
   "metadata": {},
   "outputs": [],
   "source": [
    "dsm.meta"
   ]
  },
  {
   "cell_type": "code",
   "execution_count": null,
   "id": "548fb7aa",
   "metadata": {},
   "outputs": [],
   "source": [
    "import rioxarray as rx"
   ]
  },
  {
   "cell_type": "code",
   "execution_count": null,
   "id": "c8fffe96",
   "metadata": {
    "scrolled": true
   },
   "outputs": [],
   "source": [
    "surface = rx.open_rasterio(\"DHMVIIDSMRAS1m_k01.tif\")\n",
    "surface"
   ]
  },
  {
   "cell_type": "code",
   "execution_count": null,
   "id": "6c18c7ae",
   "metadata": {},
   "outputs": [],
   "source": []
  },
  {
   "cell_type": "code",
   "execution_count": null,
   "id": "b5611edd",
   "metadata": {},
   "outputs": [],
   "source": []
  },
  {
   "cell_type": "code",
   "execution_count": null,
   "id": "9918c024",
   "metadata": {},
   "outputs": [],
   "source": [
    "surface.rio.crs"
   ]
  },
  {
   "cell_type": "code",
   "execution_count": null,
   "id": "f98c241a",
   "metadata": {},
   "outputs": [],
   "source": [
    "surface.rio.bounds()"
   ]
  },
  {
   "cell_type": "code",
   "execution_count": null,
   "id": "0eae0024",
   "metadata": {},
   "outputs": [],
   "source": [
    "surface.values"
   ]
  },
  {
   "cell_type": "code",
   "execution_count": null,
   "id": "54da7d0e",
   "metadata": {},
   "outputs": [],
   "source": [
    "from pyproj import CRS\n",
    "epsg = surface.rio.crs.to_epsg()\n",
    "crs = CRS(epsg)\n",
    "crs"
   ]
  },
  {
   "cell_type": "code",
   "execution_count": null,
   "id": "9bdcfe6a",
   "metadata": {},
   "outputs": [],
   "source": [
    "surface = rioxarray.open_rasterio(\"DSM/DSM_k06.tif\")\n",
    "terrain = rioxarray.open_rasterio(\"DTM/DTM_k06.tif\")"
   ]
  },
  {
   "cell_type": "code",
   "execution_count": null,
   "id": "391ea94c",
   "metadata": {},
   "outputs": [],
   "source": [
    "surface.rio.crs.wkt"
   ]
  },
  {
   "cell_type": "code",
   "execution_count": null,
   "id": "1afd87e5",
   "metadata": {},
   "outputs": [],
   "source": [
    "terrain.rio.crs.wkt"
   ]
  },
  {
   "cell_type": "code",
   "execution_count": null,
   "id": "1e593668",
   "metadata": {},
   "outputs": [],
   "source": [
    "import rasterio"
   ]
  },
  {
   "cell_type": "code",
   "execution_count": null,
   "id": "de6ac526",
   "metadata": {},
   "outputs": [],
   "source": [
    "df = rasterio.open('DSM_k07.tif')\n",
    "df1 = rasterio.open(\"DTM_k07.tif\")"
   ]
  },
  {
   "cell_type": "code",
   "execution_count": null,
   "id": "10b66256",
   "metadata": {},
   "outputs": [],
   "source": [
    "df.bounds\n",
    "df1.bounds"
   ]
  },
  {
   "cell_type": "code",
   "execution_count": null,
   "id": "1aa394d6",
   "metadata": {},
   "outputs": [],
   "source": [
    "BoundingBox(left=145000.0, bottom=238000.0, right=162000.0, top=247000.0)"
   ]
  },
  {
   "cell_type": "code",
   "execution_count": null,
   "id": "6befdcca",
   "metadata": {},
   "outputs": [],
   "source": [
    "df7 = rasterio.open(\"DTM_k06.tif\")"
   ]
  },
  {
   "cell_type": "code",
   "execution_count": null,
   "id": "5f0d86a4",
   "metadata": {},
   "outputs": [],
   "source": [
    "df7.bounds.left"
   ]
  },
  {
   "cell_type": "code",
   "execution_count": null,
   "id": "200b353a",
   "metadata": {},
   "outputs": [],
   "source": [
    "df7.meta"
   ]
  },
  {
   "cell_type": "code",
   "execution_count": null,
   "id": "43520950",
   "metadata": {},
   "outputs": [],
   "source": [
    "import requests"
   ]
  },
  {
   "cell_type": "code",
   "execution_count": null,
   "id": "aa615b25",
   "metadata": {},
   "outputs": [],
   "source": [
    "address =  \"Spijker 29, 2910 Essen\"\n",
    "def details(address: str):\n",
    "    req = requests.get(f\"https://loc.geopunt.be/v4/Location?q={address}\").json()\n",
    "    info = {'address' : address, \n",
    "                'x_value' : req['LocationResult'][0]['Location']['X_Lambert72'],\n",
    "                'y_value' : req['LocationResult'][0]['Location']['Y_Lambert72'],\n",
    "                'street' : req['LocationResult'][0]['Thoroughfarename'],\n",
    "                'house_number' : req['LocationResult'][0]['Housenumber'], \n",
    "                'postcode': req['LocationResult'][0]['Zipcode'], \n",
    "                'municipality' : req['LocationResult'][0]['Municipality']}\n",
    "    \n",
    "    detail = requests.get(\"https://api.basisregisters.vlaanderen.be/v1/adresmatch\", \n",
    "                          params={\"postcode\": info['postcode'], \n",
    "                                  \"straatnaam\": info['street'],\n",
    "                                  \"huisnummer\": info['house_number']}).json()\n",
    "    building = requests.get(detail['adresMatches'][0]['adresseerbareObjecten'][0]['detail']).json()\n",
    "    build = requests.get(building['gebouw']['detail']).json()\n",
    "    info['polygon'] = [build['geometriePolygoon']['polygon']['coordinates']]\n",
    "    \n",
    "    return info\n",
    "\n",
    "info = details(address)\n",
    "info\n"
   ]
  },
  {
   "cell_type": "code",
   "execution_count": null,
   "id": "dd2b3792",
   "metadata": {},
   "outputs": [],
   "source": [
    "x = info[\"x_value\"]\n",
    "y = info[\"y_value\"]"
   ]
  },
  {
   "cell_type": "code",
   "execution_count": null,
   "id": "53c20cdb",
   "metadata": {},
   "outputs": [],
   "source": []
  }
 ],
 "metadata": {
  "kernelspec": {
   "display_name": "Python 3 (ipykernel)",
   "language": "python",
   "name": "python3"
  },
  "language_info": {
   "codemirror_mode": {
    "name": "ipython",
    "version": 3
   },
   "file_extension": ".py",
   "mimetype": "text/x-python",
   "name": "python",
   "nbconvert_exporter": "python",
   "pygments_lexer": "ipython3",
   "version": "3.8.5"
  }
 },
 "nbformat": 4,
 "nbformat_minor": 5
}
